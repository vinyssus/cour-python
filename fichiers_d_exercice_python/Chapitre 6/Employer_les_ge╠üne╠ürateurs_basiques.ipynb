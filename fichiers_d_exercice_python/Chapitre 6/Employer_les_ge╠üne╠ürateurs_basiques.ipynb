{
 "cells": [
  {
   "cell_type": "code",
   "execution_count": 1,
   "id": "68c0dfdb",
   "metadata": {},
   "outputs": [],
   "source": [
    "class Multiple:\n",
    "    \n",
    "    def __init__(self, num, limite):\n",
    "        self.num = num\n",
    "        self.limite = limite\n",
    "        self.c = 0\n",
    "        \n",
    "    def __iter__(self):\n",
    "        return self\n",
    "        \n",
    "    def __next__(self):\n",
    "        self.c += 1\n",
    "        valeur = self.num * self.c\n",
    "        if valeur > self.limite :\n",
    "            raise StopIteration()\n",
    "        else:\n",
    "            return valeur"
   ]
  },
  {
   "cell_type": "code",
   "execution_count": 2,
   "id": "f3d7d609",
   "metadata": {},
   "outputs": [
    {
     "name": "stdout",
     "output_type": "stream",
     "text": [
      "7\n",
      "14\n",
      "21\n",
      "28\n",
      "35\n",
      "42\n"
     ]
    }
   ],
   "source": [
    "for num in Multiple (7,48):\n",
    "    print(num)"
   ]
  },
  {
   "cell_type": "code",
   "execution_count": 3,
   "id": "03aa2231",
   "metadata": {},
   "outputs": [],
   "source": [
    "def multiple_g(num, limite):\n",
    "    \n",
    "    c = 1\n",
    "    valeur = num * c\n",
    "    while valeur <= limite:\n",
    "        yield valeur\n",
    "        c += 1\n",
    "        valeur = num * c"
   ]
  },
  {
   "cell_type": "code",
   "execution_count": 4,
   "id": "020e149f",
   "metadata": {},
   "outputs": [
    {
     "name": "stdout",
     "output_type": "stream",
     "text": [
      "7\n",
      "14\n",
      "21\n",
      "28\n",
      "35\n",
      "42\n"
     ]
    }
   ],
   "source": [
    "for num in Multiple (7,48):\n",
    "    print(num)"
   ]
  },
  {
   "cell_type": "code",
   "execution_count": null,
   "id": "d0d6479f",
   "metadata": {},
   "outputs": [],
   "source": []
  }
 ],
 "metadata": {
  "kernelspec": {
   "display_name": "Python 3",
   "language": "python",
   "name": "python3"
  },
  "language_info": {
   "codemirror_mode": {
    "name": "ipython",
    "version": 3
   },
   "file_extension": ".py",
   "mimetype": "text/x-python",
   "name": "python",
   "nbconvert_exporter": "python",
   "pygments_lexer": "ipython3",
   "version": "3.8.8"
  }
 },
 "nbformat": 4,
 "nbformat_minor": 5
}

{
 "cells": [
  {
   "cell_type": "code",
   "execution_count": 1,
   "metadata": {},
   "outputs": [
    {
     "name": "stdout",
     "output_type": "stream",
     "text": [
      "{0: 0, 2: 4, 4: 16, 6: 36, 8: 64, 10: 100, 12: 144, 14: 196, 16: 256, 18: 324}\n"
     ]
    }
   ],
   "source": [
    "nombres = range(20)\n",
    "dict_for = {}\n",
    "for n in nombres:\n",
    "    if n%2==0:\n",
    "        dict_for[n] = n**2\n",
    "print(dict_for)"
   ]
  },
  {
   "cell_type": "code",
   "execution_count": 2,
   "metadata": {},
   "outputs": [
    {
     "data": {
      "text/plain": [
       "{0: 0, 2: 4, 4: 16, 6: 36, 8: 64, 10: 100, 12: 144, 14: 196, 16: 256, 18: 324}"
      ]
     },
     "execution_count": 2,
     "metadata": {},
     "output_type": "execute_result"
    }
   ],
   "source": [
    "dict_sans_for = {i: i**2 for i in range(20) if i % 2 == 0}\n",
    "dict_sans_for"
   ]
  },
  {
   "cell_type": "code",
   "execution_count": 3,
   "metadata": {},
   "outputs": [
    {
     "data": {
      "text/plain": [
       "{'Juventus': 'Cristiano', 'Dortmund': 'Hakimi', 'Chelsea': 'Kante'}"
      ]
     },
     "execution_count": 3,
     "metadata": {},
     "output_type": "execute_result"
    }
   ],
   "source": [
    "equipe = {'Cristiano':'Juventus','Hakimi':'Dortmund','Kante':'Chelsea'}\n",
    "equipe_joueur = {equipe[key]: key for key in equipe}\n",
    "equipe_joueur"
   ]
  },
  {
   "cell_type": "code",
   "execution_count": 4,
   "metadata": {},
   "outputs": [
    {
     "name": "stdout",
     "output_type": "stream",
     "text": [
      "{'v_1': 100.0, 'v_2': 153.0, 'v_3': 700.0, 'v_4': 250.0}\n"
     ]
    }
   ],
   "source": [
    "distance_m = {'v_1': 100000,'v_2': 153000,'v_3': 700000,'v_4': 250000}\n",
    "\n",
    "distance_km = {i:j/1000 for (i,j) in distance_m.items()}\n",
    "\n",
    "print(distance_km)"
   ]
  },
  {
   "cell_type": "code",
   "execution_count": 5,
   "metadata": {},
   "outputs": [
    {
     "name": "stdout",
     "output_type": "stream",
     "text": [
      "{'v_1': 100.0, 'v_2': 153.0, 'v_3': 700.0, 'v_4': 250.0}\n"
     ]
    }
   ],
   "source": [
    "distance = {'v_1': 100,'v_2': 153000,'v_3': 700000,'v_4': 250}\n",
    "\n",
    "distance_km = {i:j/1000 for (i,j) in distance_m.items() if j/1000 > 1}\n",
    "\n",
    "print(distance_km)"
   ]
  },
  {
   "cell_type": "code",
   "execution_count": null,
   "metadata": {},
   "outputs": [],
   "source": []
  }
 ],
 "metadata": {
  "kernelspec": {
   "display_name": "Python 3",
   "language": "python",
   "name": "python3"
  },
  "language_info": {
   "codemirror_mode": {
    "name": "ipython",
    "version": 3
   },
   "file_extension": ".py",
   "mimetype": "text/x-python",
   "name": "python",
   "nbconvert_exporter": "python",
   "pygments_lexer": "ipython3",
   "version": "3.7.4"
  }
 },
 "nbformat": 4,
 "nbformat_minor": 2
}

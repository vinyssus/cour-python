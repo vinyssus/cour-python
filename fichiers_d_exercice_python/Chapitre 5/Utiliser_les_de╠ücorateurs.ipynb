{
 "cells": [
  {
   "cell_type": "code",
   "execution_count": 1,
   "id": "78aa139d",
   "metadata": {},
   "outputs": [],
   "source": [
    "def minuscule(fonc):\n",
    "    \"\"\"Conversion en lettres minuscules.\"\"\"\n",
    "    texte = fonc()\n",
    "    if not isinstance(texte, str):\n",
    "        raise TypeError(\"type non adéquat\")\n",
    "    return texte.lower()    "
   ]
  },
  {
   "cell_type": "code",
   "execution_count": 2,
   "id": "659c9379",
   "metadata": {},
   "outputs": [],
   "source": [
    "def salut():\n",
    "    return \"Salut les AMIS\""
   ]
  },
  {
   "cell_type": "code",
   "execution_count": 3,
   "id": "76d1dd39",
   "metadata": {},
   "outputs": [
    {
     "data": {
      "text/plain": [
       "'salut les amis'"
      ]
     },
     "execution_count": 3,
     "metadata": {},
     "output_type": "execute_result"
    }
   ],
   "source": [
    "minuscule(salut)"
   ]
  },
  {
   "cell_type": "code",
   "execution_count": 4,
   "id": "15f653c4",
   "metadata": {},
   "outputs": [],
   "source": [
    "@minuscule\n",
    "def salut():\n",
    "    return \"Salut les AMIS\""
   ]
  },
  {
   "cell_type": "code",
   "execution_count": 5,
   "id": "753b8df9",
   "metadata": {},
   "outputs": [
    {
     "data": {
      "text/plain": [
       "'salut les amis'"
      ]
     },
     "execution_count": 5,
     "metadata": {},
     "output_type": "execute_result"
    }
   ],
   "source": [
    "salut"
   ]
  },
  {
   "cell_type": "code",
   "execution_count": 6,
   "id": "a926657d",
   "metadata": {},
   "outputs": [],
   "source": [
    "def minuscule(fonc):\n",
    "    def wrapper():\n",
    "        texte = fonc()\n",
    "        if not isinstance(texte, str):\n",
    "            raise TypeError(\"type non adéquat\")\n",
    "        return texte.lower() \n",
    "    return wrapper"
   ]
  },
  {
   "cell_type": "code",
   "execution_count": 7,
   "id": "7cb019b8",
   "metadata": {},
   "outputs": [
    {
     "data": {
      "text/plain": [
       "'salut les amis'"
      ]
     },
     "execution_count": 7,
     "metadata": {},
     "output_type": "execute_result"
    }
   ],
   "source": [
    "@minuscule\n",
    "def salut():\n",
    "    return \"Salut les AMIS\"\n",
    "\n",
    "salut()"
   ]
  },
  {
   "cell_type": "code",
   "execution_count": null,
   "id": "4e3b1301",
   "metadata": {},
   "outputs": [],
   "source": []
  }
 ],
 "metadata": {
  "kernelspec": {
   "display_name": "Python 3",
   "language": "python",
   "name": "python3"
  },
  "language_info": {
   "codemirror_mode": {
    "name": "ipython",
    "version": 3
   },
   "file_extension": ".py",
   "mimetype": "text/x-python",
   "name": "python",
   "nbconvert_exporter": "python",
   "pygments_lexer": "ipython3",
   "version": "3.8.8"
  }
 },
 "nbformat": 4,
 "nbformat_minor": 5
}

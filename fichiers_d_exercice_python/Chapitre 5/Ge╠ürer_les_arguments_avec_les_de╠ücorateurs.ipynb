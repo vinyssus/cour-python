{
 "cells": [
  {
   "cell_type": "code",
   "execution_count": 8,
   "id": "bb93487e",
   "metadata": {},
   "outputs": [],
   "source": [
    "def adresse_pro(fonc):\n",
    "    def wrapper(*arg , **kwarg):\n",
    "        texte =  fonc(*arg , **kwarg)\n",
    "        res = \"\".join([texte,\"@ENtreprise.com\"])\n",
    "        return res\n",
    "    return wrapper    "
   ]
  },
  {
   "cell_type": "code",
   "execution_count": 9,
   "id": "e8b19659",
   "metadata": {},
   "outputs": [],
   "source": [
    "@adresse_pro\n",
    "\n",
    "def utilisateurs(oui):\n",
    "    return oui"
   ]
  },
  {
   "cell_type": "code",
   "execution_count": 10,
   "id": "4a069486",
   "metadata": {},
   "outputs": [],
   "source": [
    "L = [\"utilisateur_1\", \"utilisateur_2\", \"utilisateur_3\"]"
   ]
  },
  {
   "cell_type": "code",
   "execution_count": 11,
   "id": "e1927d7f",
   "metadata": {},
   "outputs": [
    {
     "name": "stdout",
     "output_type": "stream",
     "text": [
      "utilisateur_1@ENtreprise.com\n",
      "utilisateur_2@ENtreprise.com\n",
      "utilisateur_3@ENtreprise.com\n"
     ]
    }
   ],
   "source": [
    "for i in L:\n",
    "    print (utilisateurs(i))"
   ]
  },
  {
   "cell_type": "code",
   "execution_count": null,
   "id": "cf3273cb",
   "metadata": {},
   "outputs": [],
   "source": []
  }
 ],
 "metadata": {
  "kernelspec": {
   "display_name": "Python 3",
   "language": "python",
   "name": "python3"
  },
  "language_info": {
   "codemirror_mode": {
    "name": "ipython",
    "version": 3
   },
   "file_extension": ".py",
   "mimetype": "text/x-python",
   "name": "python",
   "nbconvert_exporter": "python",
   "pygments_lexer": "ipython3",
   "version": "3.8.8"
  }
 },
 "nbformat": 4,
 "nbformat_minor": 5
}

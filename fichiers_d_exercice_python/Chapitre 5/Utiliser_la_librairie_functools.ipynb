{
 "cells": [
  {
   "cell_type": "code",
   "execution_count": 2,
   "id": "22ed9d82",
   "metadata": {},
   "outputs": [
    {
     "name": "stdout",
     "output_type": "stream",
     "text": [
      "adition\n",
      "Division par 2\n"
     ]
    }
   ],
   "source": [
    "from functools import wraps\n",
    "def logging(func):\n",
    "    @wraps(func)\n",
    "    def logs(*arg , **kwarg):\n",
    "        print(func.__name__ + \" a été appelée\")\n",
    "        return func(*arg , **kwarg)\n",
    "    return logs\n",
    "\n",
    "@logging\n",
    "def adition(x):\n",
    "    \"\"\"Division par 2\"\"\"\n",
    "    return x / 2\n",
    "\n",
    "print(adition.__name__)\n",
    "print(adition.__doc__)"
   ]
  },
  {
   "cell_type": "code",
   "execution_count": null,
   "id": "c58aed0c",
   "metadata": {},
   "outputs": [],
   "source": [
    "utiliser un décorateur pour créer une fonction de décorateur\n",
    "Créer une classe utilisant un décorateur de fonction\n",
    "Créer des classes de décorateurs"
   ]
  }
 ],
 "metadata": {
  "kernelspec": {
   "display_name": "Python 3",
   "language": "python",
   "name": "python3"
  },
  "language_info": {
   "codemirror_mode": {
    "name": "ipython",
    "version": 3
   },
   "file_extension": ".py",
   "mimetype": "text/x-python",
   "name": "python",
   "nbconvert_exporter": "python",
   "pygments_lexer": "ipython3",
   "version": "3.8.8"
  }
 },
 "nbformat": 4,
 "nbformat_minor": 5
}

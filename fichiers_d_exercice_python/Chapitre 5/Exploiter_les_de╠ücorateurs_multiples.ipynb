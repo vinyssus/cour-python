{
 "cells": [
  {
   "cell_type": "code",
   "execution_count": 1,
   "id": "504bd72d",
   "metadata": {},
   "outputs": [],
   "source": [
    "def minuscule(fonc):\n",
    "    def wrapper():\n",
    "        texte = fonc()\n",
    "        if not isinstance(texte, str):\n",
    "            raise TypeError(\"type non adéquat\")\n",
    "        return texte.lower() \n",
    "    return wrapper"
   ]
  },
  {
   "cell_type": "code",
   "execution_count": 2,
   "id": "ecf3cf05",
   "metadata": {},
   "outputs": [],
   "source": [
    "def adresse_pro(fonc):\n",
    "    def wrapper():\n",
    "        texte =  fonc()\n",
    "        res = \"\".join([texte,\"@entreprise.com\"])\n",
    "        return res\n",
    "    return wrapper        "
   ]
  },
  {
   "cell_type": "code",
   "execution_count": 3,
   "id": "0fa9b872",
   "metadata": {},
   "outputs": [],
   "source": [
    "@adresse_pro\n",
    "@minuscule\n",
    "\n",
    "def utilisateurs():\n",
    "    return \"Tasnime\""
   ]
  },
  {
   "cell_type": "code",
   "execution_count": 4,
   "id": "c54b74af",
   "metadata": {},
   "outputs": [
    {
     "data": {
      "text/plain": [
       "'tasnime@entreprise.com'"
      ]
     },
     "execution_count": 4,
     "metadata": {},
     "output_type": "execute_result"
    }
   ],
   "source": [
    "utilisateurs()"
   ]
  },
  {
   "cell_type": "code",
   "execution_count": null,
   "id": "2f005a08",
   "metadata": {},
   "outputs": [],
   "source": []
  }
 ],
 "metadata": {
  "kernelspec": {
   "display_name": "Python 3",
   "language": "python",
   "name": "python3"
  },
  "language_info": {
   "codemirror_mode": {
    "name": "ipython",
    "version": 3
   },
   "file_extension": ".py",
   "mimetype": "text/x-python",
   "name": "python",
   "nbconvert_exporter": "python",
   "pygments_lexer": "ipython3",
   "version": "3.8.8"
  }
 },
 "nbformat": 4,
 "nbformat_minor": 5
}

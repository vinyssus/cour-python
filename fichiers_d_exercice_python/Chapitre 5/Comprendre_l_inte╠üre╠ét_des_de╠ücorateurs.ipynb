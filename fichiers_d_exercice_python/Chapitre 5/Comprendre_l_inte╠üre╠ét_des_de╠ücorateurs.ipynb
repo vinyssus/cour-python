{
 "cells": [
  {
   "cell_type": "code",
   "execution_count": 1,
   "id": "8d1c5420",
   "metadata": {},
   "outputs": [],
   "source": [
    "def Afficher_decorateur(function):\n",
    "    def nouvelle_fonction(a, b):\n",
    "        print('Le résultat de cette opération avec {} et {}'.format(a, b))\n",
    "        res = function(a, b)\n",
    "        print('Résultat: {}'.format(res))\n",
    "        return res\n",
    "    return nouvelle_fonction"
   ]
  },
  {
   "cell_type": "code",
   "execution_count": 2,
   "id": "81ea384c",
   "metadata": {},
   "outputs": [],
   "source": [
    "@Afficher_decorateur\n",
    "... def soustraction(a, b):\n",
    "...     return a - b    "
   ]
  },
  {
   "cell_type": "code",
   "execution_count": 3,
   "id": "bdee69ff",
   "metadata": {},
   "outputs": [
    {
     "name": "stdout",
     "output_type": "stream",
     "text": [
      "Le résultat de cette opération avec 1 et 2\n",
      "Résultat: -1\n"
     ]
    },
    {
     "data": {
      "text/plain": [
       "-1"
      ]
     },
     "execution_count": 3,
     "metadata": {},
     "output_type": "execute_result"
    }
   ],
   "source": [
    "soustraction(1, 2)"
   ]
  },
  {
   "cell_type": "code",
   "execution_count": 4,
   "id": "cd5a9001",
   "metadata": {},
   "outputs": [],
   "source": [
    "@Afficher_decorateur\n",
    "... def addition(a, b):\n",
    "...     return a + b    "
   ]
  },
  {
   "cell_type": "code",
   "execution_count": 5,
   "id": "438e118c",
   "metadata": {},
   "outputs": [
    {
     "name": "stdout",
     "output_type": "stream",
     "text": [
      "Le résultat de cette opération avec 1 et 2\n",
      "Résultat: 3\n"
     ]
    },
    {
     "data": {
      "text/plain": [
       "3"
      ]
     },
     "execution_count": 5,
     "metadata": {},
     "output_type": "execute_result"
    }
   ],
   "source": [
    "addition(1, 2)"
   ]
  },
  {
   "cell_type": "code",
   "execution_count": null,
   "id": "e4cec248",
   "metadata": {},
   "outputs": [],
   "source": []
  }
 ],
 "metadata": {
  "kernelspec": {
   "display_name": "Python 3",
   "language": "python",
   "name": "python3"
  },
  "language_info": {
   "codemirror_mode": {
    "name": "ipython",
    "version": 3
   },
   "file_extension": ".py",
   "mimetype": "text/x-python",
   "name": "python",
   "nbconvert_exporter": "python",
   "pygments_lexer": "ipython3",
   "version": "3.8.8"
  }
 },
 "nbformat": 4,
 "nbformat_minor": 5
}

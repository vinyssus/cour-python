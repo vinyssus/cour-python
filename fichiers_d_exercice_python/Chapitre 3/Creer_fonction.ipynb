{
 "cells": [
  {
   "cell_type": "code",
   "execution_count": 1,
   "metadata": {},
   "outputs": [],
   "source": [
    "import re\n",
    "def recup_noms_uniques_1(nom_fichier):\n",
    "    \"\"\" \n",
    "    Lecture du fichier de données et récupérer tous les numéros uniques.\n",
    "    \"\"\"\n",
    "    noms = set()\n",
    "    with open(nom_fichier) as fread:\n",
    "        for ligne in fread:\n",
    "            corresp = re.findall(r'[\\w\\.-]+', ligne)\n",
    "            for nom in corresp:\n",
    "                noms.add(nom)\n",
    "    return noms"
   ]
  },
  {
   "cell_type": "code",
   "execution_count": 2,
   "metadata": {},
   "outputs": [
    {
     "data": {
      "text/plain": [
       "{'Caroline', 'Gilles', 'Omar', 'Sophie', 'Tasnime'}"
      ]
     },
     "execution_count": 2,
     "metadata": {},
     "output_type": "execute_result"
    }
   ],
   "source": [
    "recup_noms_uniques_1('noms_f.txt')"
   ]
  },
  {
   "cell_type": "code",
   "execution_count": 3,
   "metadata": {},
   "outputs": [],
   "source": [
    "def recup_noms_uniques_2(nom_fichier):\n",
    "    \"\"\"\n",
    "    Récupérer tous les numéros uniques.\n",
    "    \"\"\"\n",
    "    noms = set()\n",
    "    for ligne in lire_fichier(nom_fichier):\n",
    "        corresp = re.findall(r'[\\w\\.-]+', ligne)\n",
    "        for nom in corresp:\n",
    "            noms.add(nom)\n",
    "    return noms\n",
    "\n",
    "def lire_fichier(nom_fichier):\n",
    "    \"\"\"\n",
    "    Lire le fichier et récupérer chaque ligne.\n",
    "    \"\"\"\n",
    "    with open(nom_fichier) as fread:\n",
    "        for ligne in fread:\n",
    "            yield ligne"
   ]
  },
  {
   "cell_type": "code",
   "execution_count": 4,
   "metadata": {},
   "outputs": [
    {
     "data": {
      "text/plain": [
       "{'Caroline', 'Gilles', 'Omar', 'Sophie', 'Tasnime'}"
      ]
     },
     "execution_count": 4,
     "metadata": {},
     "output_type": "execute_result"
    }
   ],
   "source": [
    "recup_noms_uniques_2('noms_f.txt')"
   ]
  },
  {
   "cell_type": "code",
   "execution_count": null,
   "metadata": {},
   "outputs": [],
   "source": []
  }
 ],
 "metadata": {
  "kernelspec": {
   "display_name": "Python 3",
   "language": "python",
   "name": "python3"
  },
  "language_info": {
   "codemirror_mode": {
    "name": "ipython",
    "version": 3
   },
   "file_extension": ".py",
   "mimetype": "text/x-python",
   "name": "python",
   "nbconvert_exporter": "python",
   "pygments_lexer": "ipython3",
   "version": "3.7.4"
  }
 },
 "nbformat": 4,
 "nbformat_minor": 2
}

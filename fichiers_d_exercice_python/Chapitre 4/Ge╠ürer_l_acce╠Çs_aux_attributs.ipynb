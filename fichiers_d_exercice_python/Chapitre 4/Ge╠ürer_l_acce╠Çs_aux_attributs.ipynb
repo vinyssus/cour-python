{
 "cells": [
  {
   "cell_type": "code",
   "execution_count": 2,
   "id": "65477ebc",
   "metadata": {},
   "outputs": [],
   "source": [
    "class félins:\n",
    "    \"\"\"Classe représentant un félin\"\"\"\n",
    "    def __init__(self, type_félin=\"tigre\",couleur=\"orange\"):\n",
    "        \"\"\"Constructeur de notre classe\"\"\"\n",
    "        self.type_félin = type_félin\n",
    "        self.couleur = couleur   \n",
    "    def def_couleur ( self ):\n",
    "        return self.couleur\n",
    "    def ch_couleur ( self , valeur ):\n",
    "        self.couleur = valeur\n",
    "    def def_type_félin ( self ):\n",
    "        return self.type_félin    \n",
    "    def ch_type_félin ( self , valeur ):\n",
    "        if valeur == \"souris\":\n",
    "            raise ValueError (\"Est ce que c'est une blague cher utilisateur ?\")\n",
    "        self.type_félin = valeur"
   ]
  },
  {
   "cell_type": "code",
   "execution_count": 3,
   "id": "bad99a40",
   "metadata": {},
   "outputs": [
    {
     "name": "stdout",
     "output_type": "stream",
     "text": [
      "orange tigre\n"
     ]
    }
   ],
   "source": [
    "T_1=félins()\n",
    "print ( T_1.def_couleur(), T_1.def_type_félin())"
   ]
  },
  {
   "cell_type": "code",
   "execution_count": 5,
   "id": "23c86b81",
   "metadata": {},
   "outputs": [
    {
     "name": "stdout",
     "output_type": "stream",
     "text": [
      "jaune\n"
     ]
    }
   ],
   "source": [
    "T_1.ch_couleur(\"jaune\")\n",
    "print (T_1.def_couleur())"
   ]
  },
  {
   "cell_type": "code",
   "execution_count": 6,
   "id": "6ce2926d",
   "metadata": {},
   "outputs": [
    {
     "ename": "ValueError",
     "evalue": "Est ce que c'est une blague cher utilisateur ?",
     "output_type": "error",
     "traceback": [
      "\u001b[1;31m---------------------------------------------------------------------------\u001b[0m",
      "\u001b[1;31mValueError\u001b[0m                                Traceback (most recent call last)",
      "\u001b[1;32m<ipython-input-6-89a2e4f39ba1>\u001b[0m in \u001b[0;36m<module>\u001b[1;34m\u001b[0m\n\u001b[1;32m----> 1\u001b[1;33m \u001b[0mT_1\u001b[0m\u001b[1;33m.\u001b[0m\u001b[0mch_type_félin\u001b[0m\u001b[1;33m(\u001b[0m\u001b[1;34m\"souris\"\u001b[0m\u001b[1;33m)\u001b[0m\u001b[1;33m\u001b[0m\u001b[1;33m\u001b[0m\u001b[0m\n\u001b[0m\u001b[0;32m      2\u001b[0m \u001b[0mprint\u001b[0m \u001b[1;33m(\u001b[0m \u001b[0mT_1\u001b[0m\u001b[1;33m.\u001b[0m\u001b[0mdef_couleur\u001b[0m\u001b[1;33m(\u001b[0m\u001b[1;33m)\u001b[0m\u001b[1;33m,\u001b[0m \u001b[0mT_1\u001b[0m\u001b[1;33m.\u001b[0m\u001b[0mdef_type_félin\u001b[0m\u001b[1;33m(\u001b[0m\u001b[1;33m)\u001b[0m\u001b[1;33m)\u001b[0m\u001b[1;33m\u001b[0m\u001b[1;33m\u001b[0m\u001b[0m\n",
      "\u001b[1;32m<ipython-input-2-de8309ca8450>\u001b[0m in \u001b[0;36mch_type_félin\u001b[1;34m(self, valeur)\u001b[0m\n\u001b[0;32m     13\u001b[0m     \u001b[1;32mdef\u001b[0m \u001b[0mch_type_félin\u001b[0m \u001b[1;33m(\u001b[0m \u001b[0mself\u001b[0m \u001b[1;33m,\u001b[0m \u001b[0mvaleur\u001b[0m \u001b[1;33m)\u001b[0m\u001b[1;33m:\u001b[0m\u001b[1;33m\u001b[0m\u001b[1;33m\u001b[0m\u001b[0m\n\u001b[0;32m     14\u001b[0m         \u001b[1;32mif\u001b[0m \u001b[0mvaleur\u001b[0m \u001b[1;33m==\u001b[0m \u001b[1;34m\"souris\"\u001b[0m\u001b[1;33m:\u001b[0m\u001b[1;33m\u001b[0m\u001b[1;33m\u001b[0m\u001b[0m\n\u001b[1;32m---> 15\u001b[1;33m             \u001b[1;32mraise\u001b[0m \u001b[0mValueError\u001b[0m \u001b[1;33m(\u001b[0m\u001b[1;34m\"Est ce que c'est une blague cher utilisateur ?\"\u001b[0m\u001b[1;33m)\u001b[0m\u001b[1;33m\u001b[0m\u001b[1;33m\u001b[0m\u001b[0m\n\u001b[0m\u001b[0;32m     16\u001b[0m         \u001b[0mself\u001b[0m\u001b[1;33m.\u001b[0m\u001b[0mtype_félin\u001b[0m \u001b[1;33m=\u001b[0m \u001b[0mvaleur\u001b[0m\u001b[1;33m\u001b[0m\u001b[1;33m\u001b[0m\u001b[0m\n",
      "\u001b[1;31mValueError\u001b[0m: Est ce que c'est une blague cher utilisateur ?"
     ]
    }
   ],
   "source": [
    "T_1.ch_type_félin(\"souris\")\n",
    "print ( T_1.def_couleur(), T_1.def_type_félin())"
   ]
  },
  {
   "cell_type": "code",
   "execution_count": 8,
   "id": "5e776fff",
   "metadata": {},
   "outputs": [
    {
     "name": "stdout",
     "output_type": "stream",
     "text": [
      "jaune foncé\n"
     ]
    }
   ],
   "source": [
    "T_1.couleur = (\"jaune foncé\")\n",
    "print (T_1.def_couleur())"
   ]
  },
  {
   "cell_type": "code",
   "execution_count": null,
   "id": "4c947803",
   "metadata": {},
   "outputs": [],
   "source": [
    "class félins:\n",
    "    \"\"\"Classe représentant un félin\"\"\"\n",
    "    def __init__(self, type_félin=\"tigre\",couleur=\"orange\"):\n",
    "        \"\"\"Constructeur de notre classe\"\"\"\n",
    "        self.type_félin = type_félin\n",
    "        self.couleur = couleur   \n",
    "    def def_couleur ( self ):\n",
    "        return self.couleur\n",
    "    def ch_couleur ( self , valeur ):\n",
    "        self.couleur = valeur\n",
    "    couleur=property (fget = def_couleur , fset = ch_couleur)"
   ]
  }
 ],
 "metadata": {
  "kernelspec": {
   "display_name": "Python 3",
   "language": "python",
   "name": "python3"
  },
  "language_info": {
   "codemirror_mode": {
    "name": "ipython",
    "version": 3
   },
   "file_extension": ".py",
   "mimetype": "text/x-python",
   "name": "python",
   "nbconvert_exporter": "python",
   "pygments_lexer": "ipython3",
   "version": "3.8.8"
  }
 },
 "nbformat": 4,
 "nbformat_minor": 5
}

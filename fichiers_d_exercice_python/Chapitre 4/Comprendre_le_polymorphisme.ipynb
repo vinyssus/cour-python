{
 "cells": [
  {
   "cell_type": "code",
   "execution_count": 2,
   "id": "d85a2e43",
   "metadata": {},
   "outputs": [
    {
     "data": {
      "text/plain": [
       "'Y'"
      ]
     },
     "execution_count": 2,
     "metadata": {},
     "output_type": "execute_result"
    }
   ],
   "source": [
    "max(\"PYTHON\")"
   ]
  },
  {
   "cell_type": "code",
   "execution_count": 3,
   "id": "91cb74d7",
   "metadata": {},
   "outputs": [
    {
     "data": {
      "text/plain": [
       "7"
      ]
     },
     "execution_count": 3,
     "metadata": {},
     "output_type": "execute_result"
    }
   ],
   "source": [
    "max(1,7,2)"
   ]
  },
  {
   "cell_type": "code",
   "execution_count": 4,
   "id": "801b2562",
   "metadata": {},
   "outputs": [],
   "source": [
    "class Félins:\n",
    "    \"\"\"Classe représentant un félin\"\"\"\n",
    "    def __init__(self, type_félin=\"tigre\",couleur=\"orange\"):\n",
    "        \"\"\"Constructeur de notre classe\"\"\"\n",
    "        self.type_félin = \"tigre\"\n",
    "        self.couleur = \"orange\"\n",
    "        \n",
    "class Félins2:\n",
    "    \"\"\"Classe représentant un félin\"\"\"\n",
    "    def __init__(self, type_félin=\"tigre\",couleur=\"orange\"):\n",
    "        \"\"\"Constructeur de notre classe\"\"\"\n",
    "        self.type_félin = type_félin\n",
    "        self.couleur = couleur   \n",
    "    def __str__( self):\n",
    "        return (\" Le félin est de type {} et de couleur {} \".format (self.couleur , self.type_félin ))"
   ]
  },
  {
   "cell_type": "code",
   "execution_count": 5,
   "id": "5f5528c5",
   "metadata": {},
   "outputs": [
    {
     "name": "stdout",
     "output_type": "stream",
     "text": [
      "<__main__.Félins object at 0x00000210E51A4C70>\n",
      " Le félin est de type  Lion  et de couleur  jaune foncé \n"
     ]
    }
   ],
   "source": [
    "f_1 = Félins()\n",
    "print( f_1 )\n",
    "f_2 = Félins2(\" jaune foncé\", \" Lion \")\n",
    "print( f_2 )"
   ]
  },
  {
   "cell_type": "code",
   "execution_count": 6,
   "id": "be79850b",
   "metadata": {},
   "outputs": [
    {
     "data": {
      "text/plain": [
       "' Le félin est de type  Lion  et de couleur  jaune foncé '"
      ]
     },
     "execution_count": 6,
     "metadata": {},
     "output_type": "execute_result"
    }
   ],
   "source": [
    "str (f_2)"
   ]
  },
  {
   "cell_type": "code",
   "execution_count": null,
   "id": "a075ac28",
   "metadata": {},
   "outputs": [],
   "source": []
  }
 ],
 "metadata": {
  "kernelspec": {
   "display_name": "Python 3",
   "language": "python",
   "name": "python3"
  },
  "language_info": {
   "codemirror_mode": {
    "name": "ipython",
    "version": 3
   },
   "file_extension": ".py",
   "mimetype": "text/x-python",
   "name": "python",
   "nbconvert_exporter": "python",
   "pygments_lexer": "ipython3",
   "version": "3.8.8"
  }
 },
 "nbformat": 4,
 "nbformat_minor": 5
}

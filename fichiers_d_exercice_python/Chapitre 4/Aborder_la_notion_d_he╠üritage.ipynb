{
 "cells": [
  {
   "cell_type": "code",
   "execution_count": 1,
   "id": "04b96525",
   "metadata": {},
   "outputs": [],
   "source": [
    "class félins:\n",
    "    \"\"\"Classe représentant un félin\"\"\"\n",
    "    def __init__(self, type_félin):\n",
    "        \"\"\"Constructeur de notre classe\"\"\"\n",
    "        self.type_félin = type_félin\n",
    "        self.famille = \"félin\""
   ]
  },
  {
   "cell_type": "code",
   "execution_count": 2,
   "id": "34832f4c",
   "metadata": {},
   "outputs": [],
   "source": [
    "class tigres(félins):\n",
    "    \"\"\"Classe représentant un tigre\n",
    "    Elle hérite de la classe félin\"\"\"\n",
    "    \n",
    "    def __init__(self, type_félin, vitesse):\n",
    "        \"\"\"Un tigre se définit par son type et sa vitesse\"\"\"\n",
    "        self.type_félin = type_félin\n",
    "        self.vitesse = vitesse"
   ]
  },
  {
   "cell_type": "code",
   "execution_count": 3,
   "id": "ab6edef9",
   "metadata": {},
   "outputs": [],
   "source": [
    "T_1 = tigres(\"tigre\",\"80 km/h\")"
   ]
  },
  {
   "cell_type": "code",
   "execution_count": 4,
   "id": "c3a0b9ea",
   "metadata": {},
   "outputs": [
    {
     "data": {
      "text/plain": [
       "('80 km/h', 'tigre')"
      ]
     },
     "execution_count": 4,
     "metadata": {},
     "output_type": "execute_result"
    }
   ],
   "source": [
    "T_1.vitesse , T_1.type_félin"
   ]
  },
  {
   "cell_type": "code",
   "execution_count": 5,
   "id": "bae0826c",
   "metadata": {},
   "outputs": [
    {
     "ename": "AttributeError",
     "evalue": "'tigres' object has no attribute 'famille'",
     "output_type": "error",
     "traceback": [
      "\u001b[1;31m---------------------------------------------------------------------------\u001b[0m",
      "\u001b[1;31mAttributeError\u001b[0m                            Traceback (most recent call last)",
      "\u001b[1;32m<ipython-input-5-ed854de86f63>\u001b[0m in \u001b[0;36m<module>\u001b[1;34m\u001b[0m\n\u001b[1;32m----> 1\u001b[1;33m \u001b[0mT_1\u001b[0m\u001b[1;33m.\u001b[0m\u001b[0mfamille\u001b[0m\u001b[1;33m\u001b[0m\u001b[1;33m\u001b[0m\u001b[0m\n\u001b[0m",
      "\u001b[1;31mAttributeError\u001b[0m: 'tigres' object has no attribute 'famille'"
     ]
    }
   ],
   "source": [
    "T_1.famille"
   ]
  },
  {
   "cell_type": "code",
   "execution_count": 6,
   "id": "455f477d",
   "metadata": {},
   "outputs": [],
   "source": [
    "class tigres(félins):\n",
    "    \"\"\"Classe représentant un tigre\n",
    "    Elle hérite de la classe félin\"\"\"\n",
    "    \n",
    "    def __init__(self, type_félin, vitesse):\n",
    "        \"\"\"Un tigre se définit par son type et sa vitesse\"\"\"\n",
    "        félins.__init__(self, type_félin)\n",
    "        self.vitesse = vitesse"
   ]
  },
  {
   "cell_type": "code",
   "execution_count": 7,
   "id": "ced05b1b",
   "metadata": {},
   "outputs": [
    {
     "data": {
      "text/plain": [
       "'félin'"
      ]
     },
     "execution_count": 7,
     "metadata": {},
     "output_type": "execute_result"
    }
   ],
   "source": [
    "T_2 = tigres(\"tigre\",\"80 km/h\")\n",
    "T_2.famille"
   ]
  },
  {
   "cell_type": "code",
   "execution_count": 8,
   "id": "fe8a3761",
   "metadata": {},
   "outputs": [
    {
     "data": {
      "text/plain": [
       "True"
      ]
     },
     "execution_count": 8,
     "metadata": {},
     "output_type": "execute_result"
    }
   ],
   "source": [
    "issubclass(tigres, félins)"
   ]
  },
  {
   "cell_type": "code",
   "execution_count": 9,
   "id": "8a138f13",
   "metadata": {},
   "outputs": [
    {
     "data": {
      "text/plain": [
       "False"
      ]
     },
     "execution_count": 9,
     "metadata": {},
     "output_type": "execute_result"
    }
   ],
   "source": [
    "issubclass(félins, tigres)"
   ]
  },
  {
   "cell_type": "code",
   "execution_count": 10,
   "id": "78f14d65",
   "metadata": {},
   "outputs": [
    {
     "data": {
      "text/plain": [
       "True"
      ]
     },
     "execution_count": 10,
     "metadata": {},
     "output_type": "execute_result"
    }
   ],
   "source": [
    "isinstance(T_2, tigres) "
   ]
  },
  {
   "cell_type": "code",
   "execution_count": 11,
   "id": "6db65f48",
   "metadata": {},
   "outputs": [
    {
     "data": {
      "text/plain": [
       "True"
      ]
     },
     "execution_count": 11,
     "metadata": {},
     "output_type": "execute_result"
    }
   ],
   "source": [
    "isinstance(T_2, félins) "
   ]
  },
  {
   "cell_type": "code",
   "execution_count": null,
   "id": "d620cd9d",
   "metadata": {},
   "outputs": [],
   "source": []
  }
 ],
 "metadata": {
  "kernelspec": {
   "display_name": "Python 3",
   "language": "python",
   "name": "python3"
  },
  "language_info": {
   "codemirror_mode": {
    "name": "ipython",
    "version": 3
   },
   "file_extension": ".py",
   "mimetype": "text/x-python",
   "name": "python",
   "nbconvert_exporter": "python",
   "pygments_lexer": "ipython3",
   "version": "3.8.8"
  }
 },
 "nbformat": 4,
 "nbformat_minor": 5
}

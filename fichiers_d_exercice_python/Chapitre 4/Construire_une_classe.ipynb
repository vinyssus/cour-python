{
 "cells": [
  {
   "cell_type": "code",
   "execution_count": 1,
   "id": "40cc9cb2",
   "metadata": {},
   "outputs": [
    {
     "name": "stdout",
     "output_type": "stream",
     "text": [
      "mammifères placentaires\n"
     ]
    }
   ],
   "source": [
    "class félins:\n",
    "    \"\"\"Classe représentant un félin\"\"\"\n",
    "    famille = \"mammifères placentaires\"\n",
    "    ordre = \"carnivores\"\n",
    "    sous_ordre = \"féliformes\"\n",
    "    def mam_plac(self):\n",
    "        \"\"\"Constructeur de notre classe\"\"\"\n",
    "        print (self.famille)\n",
    "        \n",
    "def main():\n",
    "    tigre = félins()\n",
    "    tigre.mam_plac()\n",
    "    \n",
    "if __name__ == '__main__':main()"
   ]
  },
  {
   "cell_type": "code",
   "execution_count": null,
   "id": "91ef83d6",
   "metadata": {},
   "outputs": [],
   "source": []
  }
 ],
 "metadata": {
  "kernelspec": {
   "display_name": "Python 3",
   "language": "python",
   "name": "python3"
  },
  "language_info": {
   "codemirror_mode": {
    "name": "ipython",
    "version": 3
   },
   "file_extension": ".py",
   "mimetype": "text/x-python",
   "name": "python",
   "nbconvert_exporter": "python",
   "pygments_lexer": "ipython3",
   "version": "3.8.8"
  }
 },
 "nbformat": 4,
 "nbformat_minor": 5
}
